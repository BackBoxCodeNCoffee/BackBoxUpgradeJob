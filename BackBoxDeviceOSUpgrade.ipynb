{
 "cells": [
  {
   "cell_type": "markdown",
   "id": "088f6733",
   "metadata": {},
   "source": [
    "### Need to import a few tools/libraries to get started with our task"
   ]
  },
  {
   "cell_type": "code",
   "execution_count": 1,
   "id": "792da617",
   "metadata": {},
   "outputs": [],
   "source": [
    "import requests\n",
    "import http\n",
    "import json\n",
    "import csv\n",
    "\n",
    "import requests\n",
    "from urllib3.exceptions import InsecureRequestWarning\n",
    "\n",
    "# Suppress only the single warning from urllib3 needed.\n",
    "requests.packages.urllib3.disable_warnings(category=InsecureRequestWarning)"
   ]
  },
  {
   "cell_type": "code",
   "execution_count": 2,
   "id": "7c5445d3",
   "metadata": {},
   "outputs": [],
   "source": [
    "BACKBOXIP = \"192.168.xxx.xxx\"\n",
    "BACKBOXUSER = 'username'\n",
    "BACKBOXUSERPASS = 'password'"
   ]
  },
  {
   "cell_type": "markdown",
   "id": "199a001b",
   "metadata": {},
   "source": [
    "### To begin we need to get all of the needed data to run our script together. "
   ]
  },
  {
   "cell_type": "code",
   "execution_count": 3,
   "id": "7be12264",
   "metadata": {},
   "outputs": [],
   "source": [
    "#information needed to reach out to backbox API\n",
    "BackBoxBaseURL = \"https://\" + BACKBOXIP #example 192.168.1.2\n",
    "BackBoxUser = BACKBOXUSER #enter your user name for BackBox\n",
    "BackBoxPassword = BACKBOXUSERPASS #enter your user Password for BackBox\n",
    "externalApiURL = BackBoxBaseURL + '/rest/data/api/'\n",
    "internalApiURL = BackBoxBaseURL + '/rest/data/'\n",
    "\n",
    "#custom information about files and jobs we will use\n",
    "devices_to_upgrade_file = './Devices_to_upgrade.csv' #Path to a CSV with just external IDs in the first column\n",
    "jobToExecute = \"UpgradeJob\" #Name of the task job we will execute in BackBox\n",
    "jobFileName = \"upgradefile.tgz\" #this is the upgrade file we want to point to\n",
    "jobFileToUpload = \"./\" + jobFileName #Path to the upgrade file we want to user for our upgrade\n",
    "\n"
   ]
  },
  {
   "cell_type": "markdown",
   "id": "6f60a8d0",
   "metadata": {},
   "source": [
    "### Here we will import out list of external IDs from a CSV. These could come from anywhere in reality, this could be from your Device Database API or just from a CSV as in this example. Key here is that we get some sort of datastructure that will help us identify devices we want to operate on."
   ]
  },
  {
   "cell_type": "code",
   "execution_count": 4,
   "id": "cb8ff1e4",
   "metadata": {},
   "outputs": [
    {
     "name": "stdout",
     "output_type": "stream",
     "text": [
      "['FD1345', '2112']\n"
     ]
    }
   ],
   "source": [
    "key = ''\n",
    "devicesToUpgrade = []\n",
    "with open(devices_to_upgrade_file, mode='r', newline='', encoding='utf-8-sig') as csvfile:\n",
    "    reader = csv.reader(csvfile, delimiter = ' ', quotechar='|')\n",
    "    first = True\n",
    "    for item in reader:\n",
    "        if first:\n",
    "            key = item\n",
    "            first = False\n",
    "        else:\n",
    "            devicesToUpgrade += item\n",
    "print(devicesToUpgrade)"
   ]
  },
  {
   "cell_type": "code",
   "execution_count": 5,
   "id": "9b49e99f",
   "metadata": {},
   "outputs": [],
   "source": [
    "session = requests.Session()"
   ]
  },
  {
   "cell_type": "markdown",
   "id": "32c4b278",
   "metadata": {},
   "source": [
    "### Let's go get a connection to our backbox server. One way to authenticate here is to get our cookies and use them to maintain our session"
   ]
  },
  {
   "cell_type": "code",
   "execution_count": 6,
   "id": "568ddf9b",
   "metadata": {},
   "outputs": [],
   "source": [
    "#reach out to BackBox and get the login page\n",
    "response = session.get(BackBoxBaseURL, verify=False)"
   ]
  },
  {
   "cell_type": "markdown",
   "id": "cdce65a2",
   "metadata": {},
   "source": [
    "### Now that we have our session cookies we can send username and password to login"
   ]
  },
  {
   "cell_type": "code",
   "execution_count": 7,
   "id": "c94ab2a4",
   "metadata": {},
   "outputs": [],
   "source": [
    "headers = {\n",
    "    'Content-Type': 'application/x-www-form-urlencoded; charset=utf-8',\n",
    "}\n",
    "\n",
    "data = {\n",
    "    'j_username': BackBoxUser,\n",
    "    'j_password': BackBoxPassword,\n",
    "}\n",
    "\n",
    "response = session.post(BackBoxBaseURL+'/j_security_check', cookies=response.cookies, headers=headers, data=data, verify=False)"
   ]
  },
  {
   "cell_type": "markdown",
   "id": "5a9cee38",
   "metadata": {},
   "source": [
    "### First thing we will do now that we are logged in is upload our upgrade file"
   ]
  },
  {
   "cell_type": "code",
   "execution_count": 8,
   "id": "9fd17fde",
   "metadata": {},
   "outputs": [],
   "source": [
    "headers = {}\n",
    "files = {\"file\": open(jobFileToUpload)}\n",
    "\n",
    "filesUploaded = session.post(internalApiURL + \"taskfile/0\", cookies=response.cookies, headers=headers, verify=False, files=files)"
   ]
  },
  {
   "cell_type": "code",
   "execution_count": 9,
   "id": "96a16a1a",
   "metadata": {},
   "outputs": [],
   "source": [
    "fileUploaded = False\n",
    "try:\n",
    "    if filesUploaded.json()[\"id\"] != \"\":\n",
    "        fileUploaded = True\n",
    "\n",
    "except:\n",
    "    print(\"Your File Failed to Upload\")\n",
    "    fileUploaded = False\n",
    "    exit()"
   ]
  },
  {
   "cell_type": "markdown",
   "id": "f5c2711a",
   "metadata": {},
   "source": [
    "### Now we will get data we need to add our devices to our intended job"
   ]
  },
  {
   "cell_type": "code",
   "execution_count": 10,
   "id": "40f29fa6",
   "metadata": {},
   "outputs": [],
   "source": [
    "headers = {}\n",
    "devicesToAddToJobList = []\n",
    "for item in devicesToUpgrade:\n",
    "    device = session.get(externalApiURL + \"devicesbyExternalId/\" + item, cookies=filesUploaded.cookies, headers=headers, verify=False)\n",
    "    if device.ok:\n",
    "        #itemType: 0 for single device, itemType: 1 for device group\n",
    "        devicesToAddToJobList += [{\"itemId\":(device.json()[0]['deviceId']), \"itemType\" : 0}]"
   ]
  },
  {
   "cell_type": "markdown",
   "id": "7b623973",
   "metadata": {},
   "source": [
    "### Next we will need to find the job we are looking for. It will match the name we put into jobToExecute at the begining of this script"
   ]
  },
  {
   "cell_type": "code",
   "execution_count": 11,
   "id": "4b3f8c7a",
   "metadata": {},
   "outputs": [],
   "source": [
    "jobs = session.get(externalApiURL + \"/taskJobs\", cookies=device.cookies, headers=headers, verify=False)"
   ]
  },
  {
   "cell_type": "code",
   "execution_count": 12,
   "id": "aac90a86",
   "metadata": {},
   "outputs": [],
   "source": [
    "if jobs.ok:\n",
    "    jobNumber = None\n",
    "    for item in jobs.json():\n",
    "        if item['name'] == jobToExecute:\n",
    "            jobNumber = item['backup_JOB_ID']\n",
    "    if jobNumber == None:\n",
    "        print(\"Unable to find specified job\")\n",
    "        exit()"
   ]
  },
  {
   "cell_type": "markdown",
   "id": "d312e53d",
   "metadata": {},
   "source": [
    "### Now that we found our job let's go grab that job"
   ]
  },
  {
   "cell_type": "code",
   "execution_count": 13,
   "id": "fd28d1c7",
   "metadata": {},
   "outputs": [],
   "source": [
    "focusJob = session.get(externalApiURL + \"/taskJob/\" + str(jobNumber), cookies=jobs.cookies, headers=headers, verify=False)"
   ]
  },
  {
   "cell_type": "markdown",
   "id": "4bcc097d",
   "metadata": {},
   "source": [
    "### Our next step will be to replace the devices that were in the job with our devices. Then push the change back to BackBox"
   ]
  },
  {
   "cell_type": "code",
   "execution_count": 14,
   "id": "94247962",
   "metadata": {},
   "outputs": [],
   "source": [
    "if focusJob.ok:\n",
    "    editedJob = focusJob.json()\n",
    "    editedJob[\"itemsIN_BackupJob\"] = devicesToAddToJobList"
   ]
  },
  {
   "cell_type": "code",
   "execution_count": 15,
   "id": "0abdf45c",
   "metadata": {},
   "outputs": [],
   "source": [
    "updateJob = session.put(externalApiURL + \"taskJob/\", cookies=jobs.cookies,json=editedJob, verify=False)"
   ]
  },
  {
   "cell_type": "code",
   "execution_count": 16,
   "id": "157737a7",
   "metadata": {},
   "outputs": [
    {
     "name": "stdout",
     "output_type": "stream",
     "text": [
      "successfully added your devices to the update job\n"
     ]
    }
   ],
   "source": [
    "if updateJob.ok:\n",
    "    print(\"successfully added your devices to the update job\")"
   ]
  },
  {
   "cell_type": "markdown",
   "id": "8037fd9b",
   "metadata": {},
   "source": [
    "### Our Last step will be to edit the Dynamic Fields of the job to point to the file we uploaded before. After this is done we can either run the API to run the job now, or we can run the job later at our convenience "
   ]
  },
  {
   "cell_type": "code",
   "execution_count": 17,
   "id": "c363b205",
   "metadata": {},
   "outputs": [],
   "source": [
    "#get the data about what is currently in your dynamic fields\n",
    "data = json.loads('[]')\n",
    "headers = {\"Accept\": 'application/json'}\n",
    "currentJobDynamicFields = session.put(internalApiURL + \"tasks/jobs/getTaskJobDynamicFields/\" + str(jobNumber), cookies=updateJob.cookies, headers=headers, json =data, verify=False)"
   ]
  },
  {
   "cell_type": "code",
   "execution_count": 18,
   "id": "20fb80e9",
   "metadata": {},
   "outputs": [],
   "source": [
    "#here we will edit the value of the file name that is in the IOS bin File UI field\n",
    "editedDyanmicFields = currentJobDynamicFields.json()\n",
    "for item in editedDyanmicFields:\n",
    "    if item[\"uiName\"] == \"IOS bin File\": # This is the UI name for the element in this specific job\n",
    "        item['customValue'] = jobFileName"
   ]
  },
  {
   "cell_type": "code",
   "execution_count": 19,
   "id": "25fe2aab",
   "metadata": {},
   "outputs": [],
   "source": [
    "#Push edited data back to your dynamic fields\n",
    "updateJobDynamicFields = session.post(internalApiURL + \"tasks/jobs/updateJobDynamicFields/\" + str(jobNumber), cookies=currentJobDynamicFields.cookies, headers=headers, json =editedDyanmicFields, verify=False)"
   ]
  },
  {
   "cell_type": "code",
   "execution_count": 20,
   "id": "d63fb4d6",
   "metadata": {},
   "outputs": [
    {
     "name": "stdout",
     "output_type": "stream",
     "text": [
      "Success! You have updated the dynamic fields for UpgradeJob.\n"
     ]
    }
   ],
   "source": [
    "if updateJobDynamicFields.ok:\n",
    "    print(\"Success! You have updated the dynamic fields for \" + jobToExecute + \".\")"
   ]
  },
  {
   "cell_type": "code",
   "execution_count": 21,
   "id": "8f3aade3",
   "metadata": {},
   "outputs": [],
   "source": [
    "session.close()"
   ]
  }
 ],
 "metadata": {
  "kernelspec": {
   "display_name": "Python 3",
   "language": "python",
   "name": "python3"
  },
  "language_info": {
   "codemirror_mode": {
    "name": "ipython",
    "version": 3
   },
   "file_extension": ".py",
   "mimetype": "text/x-python",
   "name": "python",
   "nbconvert_exporter": "python",
   "pygments_lexer": "ipython3",
   "version": "3.8.8"
  }
 },
 "nbformat": 4,
 "nbformat_minor": 5
}
